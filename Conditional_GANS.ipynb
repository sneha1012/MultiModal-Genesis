{
  "nbformat": 4,
  "nbformat_minor": 0,
  "metadata": {
    "colab": {
      "provenance": [],
      "gpuType": "T4",
      "authorship_tag": "ABX9TyMMITGg3RrM8CqHEIP9e24q",
      "include_colab_link": true
    },
    "kernelspec": {
      "name": "python3",
      "display_name": "Python 3"
    },
    "language_info": {
      "name": "python"
    },
    "accelerator": "GPU"
  },
  "cells": [
    {
      "cell_type": "markdown",
      "metadata": {
        "id": "view-in-github",
        "colab_type": "text"
      },
      "source": [
        "<a href=\"https://colab.research.google.com/github/sneha1012/MultiModal-Genesis/blob/main/Conditional_GANS.ipynb\" target=\"_parent\"><img src=\"https://colab.research.google.com/assets/colab-badge.svg\" alt=\"Open In Colab\"/></a>"
      ]
    },
    {
      "cell_type": "code",
      "execution_count": 17,
      "metadata": {
        "colab": {
          "base_uri": "https://localhost:8080/"
        },
        "id": "JZO_A_RcL707",
        "outputId": "292eafa6-310d-4e08-cc54-883ac084f76c"
      },
      "outputs": [
        {
          "output_type": "stream",
          "name": "stdout",
          "text": [
            "Drive already mounted at /content/drive; to attempt to forcibly remount, call drive.mount(\"/content/drive\", force_remount=True).\n"
          ]
        }
      ],
      "source": [
        "from google.colab import drive\n",
        "drive.mount('/content/drive')\n",
        "\n",
        "from google.colab import drive\n",
        "import os\n",
        "import numpy as np\n",
        "import pandas as pd\n",
        "import matplotlib.pyplot as plt\n",
        "from tensorflow.keras import layers\n",
        "from tensorflow.keras.models import Model\n",
        "from tensorflow.keras.optimizers import Adam\n",
        "from keras import backend as K\n",
        "import time\n",
        "from IPython.display import clear_output\n"
      ]
    },
    {
      "cell_type": "code",
      "source": [
        "# Load the image dataset\n",
        "data_location = \"/content/drive/MyDrive/cond_data.npy\"\n",
        "data = np.load(data_location)\n",
        "\n",
        "# new changes\n",
        "\n",
        "data = data[:32]\n",
        "print(data.shape)\n",
        "# until here\n",
        "\n",
        "# Load the labels\n",
        "labels_location = \"/content/drive/MyDrive/ChestXray/cond_labels (1).npy\"\n",
        "labels = np.load(labels_location)\n",
        "\n",
        "labels = labels[:32]\n",
        "\n",
        "# Constants\n",
        "NUM_EPOCHS = 4 # 10\n",
        "LATENT_DIM = 100\n",
        "INPUT_SHAPE = (128, 128, 1)\n",
        "LEARNING_RATE = 0.0002\n",
        "MOMENTUM = 0.5\n",
        "BATCH_SIZE = 8 # 32\n",
        "NUM_CLASSES = 7\n",
        "\n",
        "# Mapping of classes\n",
        "classes_list = [\"No Finding\", \"Atelectasis\", \"Effusion\", \"Infiltration\", \"Mass\", \"Nodule\", \"Pneumothorax\"]\n",
        "classes = {\"No Finding\": 0, \"Atelectasis\": 1, \"Effusion\": 2, \"Infiltration\": 3, \"Mass\": 4, \"Nodule\": 5, \"Pneumothorax\": 6}\n",
        "num_to_class = {v: k for k, v in classes.items()}\n",
        "\n",
        "# Normalize data to [-1, 1]\n",
        "data = (data - 127.5) / 127.5\n",
        "print(data.shape)"
      ],
      "metadata": {
        "colab": {
          "base_uri": "https://localhost:8080/"
        },
        "id": "U8C9upYmMCqc",
        "outputId": "eefa31ae-2745-4d6b-e6ad-c83ed8ba1411"
      },
      "execution_count": 18,
      "outputs": [
        {
          "output_type": "stream",
          "name": "stdout",
          "text": [
            "(32, 128, 128)\n",
            "(32, 128, 128)\n"
          ]
        }
      ]
    },
    {
      "cell_type": "code",
      "source": [
        "condition_to_name = {\n",
        "    0: 'No Finding',\n",
        "    1: 'Atelectasis',\n",
        "    2: 'Effusion',\n",
        "    3: 'Infiltration',\n",
        "    4: 'Mass',\n",
        "    5: 'Nodule',\n",
        "    6: 'Pneumothorax',\n",
        "\n",
        "}\n"
      ],
      "metadata": {
        "id": "F58nWNpzXgoS"
      },
      "execution_count": 19,
      "outputs": []
    },
    {
      "cell_type": "markdown",
      "source": [
        "\n",
        "**Discriminator Defintion**\n",
        "\n",
        "\n"
      ],
      "metadata": {
        "id": "uCYlDPycMREB"
      }
    },
    {
      "cell_type": "code",
      "source": [
        "def define_discriminator(in_shape=(128, 128, 1), n_classes=7, lr=0.0002, momentum=0.5):\n",
        "  # label input\n",
        "  in_label = layers.Input(shape=(1,))\n",
        "  # embedding for categorical input\n",
        "  li = layers.Embedding(n_classes, 50)(in_label)\n",
        "\n",
        "  # Scale up\n",
        "  n_nodes = in_shape[0] * in_shape[1]\n",
        "  li = layers.Dense(n_nodes)(li)\n",
        "  li = layers.Reshape((in_shape[0], in_shape[1], 1))(li)\n",
        "\n",
        "  # Input Image\n",
        "  in_image = layers.Input(shape=in_shape)\n",
        "\n",
        "  #Add in label\n",
        "  x = layers.Concatenate()([in_image, li])\n",
        "\n",
        "  # 128, 128, 2\n",
        "  x = layers.Conv2D(128, (5,5), strides=(2,2), padding='same')(x)\n",
        "  x = layers.LeakyReLU(alpha=0.2)(x)\n",
        "  # 64, 64, 128\n",
        "\n",
        "  x = layers.Conv2D(128, (5,5), strides=(2,2), padding='same')(x)\n",
        "  x = layers.LeakyReLU(alpha=0.2)(x)\n",
        "  # 32, 32, 128\n",
        "\n",
        "  x = layers.Conv2D(128, (5,5), strides=(2,2), padding='same')(x)\n",
        "  x = layers.LeakyReLU(alpha=0.2)(x)\n",
        "  # 16, 16, 128\n",
        "\n",
        "  x = layers.Conv2D(128, (5,5), strides=(2,2), padding='same')(x)\n",
        "  x = layers.LeakyReLU(alpha=0.2)(x)\n",
        "  # 8, 8, 128\n",
        "\n",
        "  x = layers.Flatten()(x)\n",
        "  x = layers.Dropout(0.4)(x)\n",
        "  out = layers.Dense(1, activation=\"sigmoid\")(x)\n",
        "\n",
        "  # Define model\n",
        "  model = Model([in_image, in_label], out)\n",
        "\n",
        "  # Compile model\n",
        "  opt = Adam(learning_rate=lr, beta_1=momentum)\n",
        "  model.compile(loss='binary_crossentropy', optimizer=opt, metrics=['accuracy'])\n",
        "\n",
        "  return model\n",
        ""
      ],
      "metadata": {
        "id": "bbp4qqgZMWxO"
      },
      "execution_count": 20,
      "outputs": []
    },
    {
      "cell_type": "markdown",
      "source": [],
      "metadata": {
        "id": "MTcxj7gRMadl"
      }
    },
    {
      "cell_type": "markdown",
      "source": [
        "**Generator definiton**"
      ],
      "metadata": {
        "id": "A9f1Pq3CMagd"
      }
    },
    {
      "cell_type": "code",
      "source": [
        "\n",
        "def define_generator(latent_dim, n_classes=7):\n",
        "  # label input\n",
        "  in_label = layers.Input(shape=(1,))\n",
        "  # embedding for categorical input\n",
        "  li = layers.Embedding(n_classes, 50)(in_label)\n",
        "\n",
        "  # Scale\n",
        "  n_nodes = 8*8*64\n",
        "  li = layers.Dense(n_nodes)(li)\n",
        "  li = layers.Reshape((8,8,64))(li)\n",
        "\n",
        "  # Latent Space Input\n",
        "  in_lat = layers.Input(shape=(latent_dim, ))\n",
        "  n_nodes = 64*8*8\n",
        "  x = layers.Dense(n_nodes)(in_lat)\n",
        "  x = layers.LeakyReLU(alpha=0.2)(x)\n",
        "  x = layers.Reshape((8, 8, 64))(x)\n",
        "\n",
        "  # Merge image and label\n",
        "  x = layers.Concatenate()([x, li])\n",
        "  # 8, 8, 128\n",
        "\n",
        "  x = layers.Conv2DTranspose(128, (4,4), strides=(2,2), padding='same')(x)\n",
        "  x = layers.LeakyReLU(alpha=0.2)(x)\n",
        "  # 16, 16, 128\n",
        "\n",
        "  x = layers.Conv2DTranspose(128, (4,4), strides=(2,2), padding='same')(x)\n",
        "  x = layers.LeakyReLU(alpha=0.2)(x)\n",
        "  # 32, 32, 128\n",
        "\n",
        "  x = layers.Conv2DTranspose(128, (4,4), strides=(2,2), padding='same')(x)\n",
        "  x = layers.LeakyReLU(alpha=0.2)(x)\n",
        "  # 64, 64, 128\n",
        "\n",
        "  x = layers.Conv2DTranspose(128, (4,4), strides=(2,2), padding='same')(x)\n",
        "  x = layers.LeakyReLU(alpha=0.2)(x)\n",
        "  # 128, 128, 128\n",
        "\n",
        "  out = layers.Conv2D(1, (16,16), activation='tanh', padding='same')(x)\n",
        "\n",
        "  # define model\n",
        "  model = Model([in_lat, in_label], out)\n",
        "\n",
        "  return model\n",
        ""
      ],
      "metadata": {
        "id": "uo4YuTdMMdfN"
      },
      "execution_count": 21,
      "outputs": []
    },
    {
      "cell_type": "markdown",
      "source": [
        "**GAN(Generative adversial networks) Definition**\n",
        "\n",
        "Both models sequentially for generator training"
      ],
      "metadata": {
        "id": "FlMFNr6hMkbT"
      }
    },
    {
      "cell_type": "code",
      "source": [
        "def define_gan(generator, discriminator, lr=0.0002, momentum=0.5):\n",
        "  discriminator.trainable = False\n",
        "\n",
        "  generator_lat, generator_label = generator.input\n",
        "  generator_output = generator.output\n",
        "\n",
        "  gan_output = discriminator([generator_output, generator_label])\n",
        "\n",
        "  model = Model([generator_lat, generator_label], gan_output)\n",
        "\n",
        "  opt = Adam(learning_rate=lr, beta_1=momentum)\n",
        "  model.compile(loss='binary_crossentropy', optimizer=opt)\n",
        "\n",
        "  return model"
      ],
      "metadata": {
        "id": "wAvJhMpnMppa"
      },
      "execution_count": 22,
      "outputs": []
    },
    {
      "cell_type": "markdown",
      "source": [
        "**Training Functions**"
      ],
      "metadata": {
        "id": "0jtCUTzTMtHJ"
      }
    },
    {
      "cell_type": "code",
      "source": [
        "\n",
        "def load_real_samples(X, labels):\n",
        "  X = np.expand_dims(X, axis=-1)\n",
        "  X = X.astype('float32')\n",
        "  X = (X - 127.5) / 127.5\n",
        "  return [X, labels]\n",
        ""
      ],
      "metadata": {
        "id": "IvQkH3_bMv6C"
      },
      "execution_count": 23,
      "outputs": []
    },
    {
      "cell_type": "code",
      "source": [
        "def generate_real_samples(dataset, n_samples):\n",
        "  i = np.random.randint(0, dataset[0].shape[0], n_samples)\n",
        "  X = dataset[0][i]\n",
        "  labels = dataset[1][i]\n",
        "  y = np.ones((n_samples, 1))\n",
        "\n",
        "  return [X, labels], y"
      ],
      "metadata": {
        "id": "2OmkLmPMM0XN"
      },
      "execution_count": 24,
      "outputs": []
    },
    {
      "cell_type": "code",
      "source": [
        "\n",
        "def generate_latent_points(latent_dim, n_samples, n_classes=7):\n",
        "  x_input = np.random.randn(latent_dim*n_samples)\n",
        "  x_input = x_input.reshape(n_samples, latent_dim)\n",
        "  labels = np.random.randint(0, n_classes, n_samples)\n",
        "  return [x_input, labels]"
      ],
      "metadata": {
        "id": "c47x3TGKM2wt"
      },
      "execution_count": 25,
      "outputs": []
    },
    {
      "cell_type": "code",
      "source": [
        "def generate_fake_samples(generator, latent_dim, n_samples, n_classes=7):\n",
        "  x_input, labels_input = generate_latent_points(latent_dim, n_samples, n_classes)\n",
        "  X = generator.predict([x_input, labels_input])\n",
        "  y = np.zeros((n_samples, 1))\n",
        "\n",
        "  return [X, labels_input], y\n",
        ""
      ],
      "metadata": {
        "id": "bqZG12UlM7Gy"
      },
      "execution_count": 26,
      "outputs": []
    },
    {
      "cell_type": "code",
      "source": [
        "condition_to_name = {\n",
        "    0: 'No Finding',\n",
        "    1: 'Atelectasis',\n",
        "    2: 'Effusion',\n",
        "    3: 'Infiltration',\n",
        "    4: 'Mass',\n",
        "    5: 'Nodule',\n",
        "    6: 'Pneumothorax',\n",
        "\n",
        "}\n"
      ],
      "metadata": {
        "id": "8p5P3-4-v3v8"
      },
      "execution_count": 27,
      "outputs": []
    },
    {
      "cell_type": "code",
      "source": [
        "def train(gan, discriminator, generator, dataset, latent_dim, n_classes, n_epochs=10, batch_size=32, starting_epoch=0, model_name=\"\", condition_to_name={}):\n",
        "\n",
        "\n",
        "  batch_per_epoch = 32 #dataset[0].shape[0] // batch_size\n",
        "  half_batch = batch_size // 2\n",
        "\n",
        "  for epoch in range(starting_epoch, n_epochs+starting_epoch):\n",
        "    start = time.time()\n",
        "    for batch in range(batch_per_epoch):\n",
        "      batch_start = time.time()\n",
        "      # Real\n",
        "      [X, labels], y = generate_real_samples(dataset, half_batch)\n",
        "      d_loss1, _ = discriminator.train_on_batch([X,  labels], y)\n",
        "\n",
        "      # Fake\n",
        "      [X, labels], y = generate_fake_samples(generator, latent_dim, half_batch, n_classes)\n",
        "      d_loss2, _ = discriminator.train_on_batch([X, labels], y)\n",
        "\n",
        "      # GAN\n",
        "      [X, labels] = generate_latent_points(latent_dim, batch_size, n_classes)\n",
        "      y = np.ones((batch_size, 1))\n",
        "      g_loss = gan.train_on_batch([X, labels], y)\n",
        "\n",
        "      print('>%d, %d/%d, d1=%.3f, d2=%.3f g=%.3f' % (epoch+1, batch+1, batch_per_epoch, d_loss1, d_loss2, g_loss))\n",
        "      print('Time for batch {}/{} of epoch {} is {} sec'.format(batch+1, batch_per_epoch, epoch + 1, time.time()-batch_start))\n",
        "\n",
        "    clear_output(wait=True)\n",
        "\n",
        "    ### PERFORMANCE CHECK\n",
        "    X, y = generate_real_samples(dataset, 100) # real\n",
        "    _, acc_real = discriminator.evaluate(X, y, verbose=0)\n",
        "    X, y = generate_fake_samples(generator, latent_dim, 100, n_classes) # fake\n",
        "    _, acc_fake = discriminator.evaluate(X, y, verbose=0)\n",
        "    print(\"Disc Accuracy Real: %.5f, fake: %.5f\" % (acc_real, acc_fake))\n",
        "    print('Epoch %d: d1=%.3f, d2=%.3f g=%.3f' % (epoch+1, d_loss1, d_loss2, g_loss))\n",
        "\n",
        "    genloss.append(g_loss)\n",
        "    discloss.append((d_loss1+d_loss2)/2)\n",
        "    accReal.append(acc_real)\n",
        "    accFake.append(acc_fake)\n",
        "\n",
        "    generate_and_save_images(generator, discriminator, epoch + 1, np.random.randn(1, latent_dim), genloss, discloss, accReal, accFake, n_classes, model_name, condition_to_name)\n",
        "\n",
        "    print ('Time for epoch {} is {} sec'.format(epoch + 1, time.time()-start))\n",
        "    # generator.save(\"/content/drive/MyDrive/ChestXray/models/\" + model_name + \"/intermediate\" + str(epoch) + \"_generator.h5\")\n",
        "    # discriminator.save(\"/content/drive/MyDrive/ChestXray/models/\" + model_name + \"/intermediate\" + str(epoch) + \"_discriminator.h5\")\n",
        "    # # np.savetxt(\"/content/drive/MyDrive/ChestXray/models/\" + model_name + \"/intermediate\" + str(epoch) + \"_genloss.csv\", gen_loss, delimiter=\",\")\n",
        "    # # np.savetxt(\"/content/drive/MyDrive/ChestXray/models/\" + model_name + \"/intermediate\" + str(epoch) + \"_discloss.csv\", disc_loss, delimiter=\",\")\n",
        "    # np.savetxt(\"/content/drive/MyDrive/ChestXray/models/\" + model_name + \"/intermediate\" + str(epoch) + \"_genloss.csv\",  delimiter=\",\")\n",
        "    # np.savetxt(\"/content/drive/MyDrive/ChestXray/models/\" + model_name + \"/intermediate\" + str(epoch) + \"_discloss.csv\", delimiter=\",\")\n",
        "    # np.savetxt(\"/content/drive/MyDrive/ChestXray/models/\" + model_name + \"/intermediate\" + str(epoch) + \"_accreal.csv\", acc_real, delimiter=\",\")\n",
        "    # np.savetxt(\"/content/drive/MyDrive/ChestXray/models/\" + model_name + \"/intermediate\" + str(epoch) + \"_accfake.csv\", acc_fake, delimiter=\",\")\n"
      ],
      "metadata": {
        "id": "6jpDZVK4NHz-"
      },
      "execution_count": 28,
      "outputs": []
    },
    {
      "cell_type": "code",
      "source": [
        "import os\n",
        "import numpy as np\n",
        "import matplotlib.pyplot as plt\n",
        "from tensorflow.keras.models import save_model\n",
        "\n",
        "def generate_and_save_images(model, discriminator, epoch, test_input, gen_loss, disc_loss, acc_real, acc_fake, n_conditions, model_name, condition_to_name):\n",
        "    base_path = \"/content/drive/MyDrive/ChestXray/models\"\n",
        "    model_path = os.path.join(base_path, model_name)\n",
        "\n",
        "    if epoch % 10 == 0:\n",
        "        # Ensure the directory exists\n",
        "        if not os.path.exists(model_path):\n",
        "            os.makedirs(model_path)\n",
        "\n",
        "        # Try saving models and data\n",
        "        try:\n",
        "            save_model(model, os.path.join(model_path, f\"intermediate{epoch}_generator.h5\"))\n",
        "            save_model(discriminator, os.path.join(model_path, f\"intermediate{epoch}_discriminator.h5\"))\n",
        "            np.savetxt(os.path.join(model_path, f\"intermediate{epoch}_genloss.csv\"), gen_loss, delimiter=\",\")\n",
        "            np.savetxt(os.path.join(model_path, f\"intermediate{epoch}_discloss.csv\"), disc_loss, delimiter=\",\")\n",
        "            np.savetxt(os.path.join(model_path, f\"intermediate{epoch}_accreal.csv\"), acc_real, delimiter=\",\")\n",
        "            np.savetxt(os.path.join(model_path, f\"intermediate{epoch}_accfake.csv\"), acc_fake, delimiter=\",\")\n",
        "        except Exception as e:\n",
        "            print(f\"Error saving models/data at epoch {epoch}. Error: {str(e)}\")\n",
        "\n",
        "    fig, axs = plt.subplots(1, n_conditions)\n",
        "    for condition in range(n_conditions):\n",
        "        predictions = model.predict([test_input, np.array([condition])])\n",
        "\n",
        "        axs[condition].imshow(predictions[0, :, :, 0] * 127.5 + 127.5, cmap='gray')\n",
        "        axs[condition].axis('off')\n",
        "        axs[condition].set_title(condition_to_name[condition], fontsize=10)\n",
        "    plt.show()\n",
        "\n",
        ""
      ],
      "metadata": {
        "id": "enRjwoi7NJD3"
      },
      "execution_count": 29,
      "outputs": []
    },
    {
      "cell_type": "markdown",
      "source": [
        "TRAIN THE MODEL"
      ],
      "metadata": {
        "id": "62Wy5VE_NcOK"
      }
    },
    {
      "cell_type": "markdown",
      "source": [
        "LOAD THE DATSET"
      ],
      "metadata": {
        "id": "B46VuU6zNge-"
      }
    },
    {
      "cell_type": "code",
      "source": [
        "\n",
        "dataset = load_real_samples(np.load(data_location), np.load(labels_location))"
      ],
      "metadata": {
        "id": "aG_2ufiANlKP"
      },
      "execution_count": 30,
      "outputs": []
    },
    {
      "cell_type": "markdown",
      "source": [
        "Train"
      ],
      "metadata": {
        "id": "iUOEA2JaNoE5"
      }
    },
    {
      "cell_type": "code",
      "source": [
        "\n",
        "discriminator = define_discriminator(in_shape=INPUT_SHAPE,n_classes=NUM_CLASSES, lr=LEARNING_RATE, momentum=MOMENTUM)\n",
        "generator = define_generator(LATENT_DIM, n_classes=NUM_CLASSES)\n",
        "gan = define_gan(generator=generator, discriminator=discriminator, lr=LEARNING_RATE, momentum=MOMENTUM)\n",
        "\n",
        "genloss = []\n",
        "discloss = []\n",
        "accReal = []\n",
        "accFake = []\n",
        "\n",
        "train(gan=gan, discriminator=discriminator, generator=generator, dataset=dataset, latent_dim=LATENT_DIM, n_classes=NUM_CLASSES, batch_size=BATCH_SIZE, n_epochs=NUM_EPOCHS, model_name=\"your_model_name\", condition_to_name=condition_to_name)\n"
      ],
      "metadata": {
        "colab": {
          "base_uri": "https://localhost:8080/",
          "height": 303
        },
        "id": "qgv03PBnNo8S",
        "outputId": "e047a524-d61b-4646-de2b-6d1de1d6e0f5"
      },
      "execution_count": 31,
      "outputs": [
        {
          "output_type": "stream",
          "name": "stdout",
          "text": [
            "4/4 [==============================] - 0s 64ms/step\n",
            "Disc Accuracy Real: 0.60000, fake: 0.99000\n",
            "Epoch 4: d1=0.949, d2=0.290 g=2.624\n",
            "1/1 [==============================] - 0s 32ms/step\n",
            "1/1 [==============================] - 0s 29ms/step\n",
            "1/1 [==============================] - 0s 39ms/step\n",
            "1/1 [==============================] - 0s 40ms/step\n",
            "1/1 [==============================] - 0s 35ms/step\n",
            "1/1 [==============================] - 0s 30ms/step\n",
            "1/1 [==============================] - 0s 30ms/step\n"
          ]
        },
        {
          "output_type": "display_data",
          "data": {
            "text/plain": [
              "<Figure size 640x480 with 7 Axes>"
            ],
            "image/png": "[encoded data removed]"
          },
          "metadata": {}
        },
        {
          "output_type": "stream",
          "name": "stdout",
          "text": [
            "Time for epoch 4 is 7.6312336921691895 sec\n"
          ]
        }
      ]
    },
    {
      "cell_type": "markdown",
      "source": [
        "Visualise Results and Training metrics"
      ],
      "metadata": {
        "id": "vmrUhBceNsrn"
      }
    },
    {
      "cell_type": "code",
      "source": [
        "plt.plot(range(len(discloss)), discloss, label='disc loss')\n",
        "plt.plot(range(len(genloss)), genloss, label='gen loss')\n",
        "plt.xlabel('Epoch')\n",
        "plt.ylim(-1,5)\n",
        "plt.ylabel('Loss value')\n",
        "plt.legend()\n",
        "plt.show()\n",
        "\n",
        "\n",
        "plt.plot(range(len(accReal)), accReal, label='accuracy Real')\n",
        "plt.plot(range(len(accFake)), accFake, label='accuracy Fake')\n",
        "plt.xlabel('Epoch')\n",
        "plt.ylim(0,1)\n",
        "plt.ylabel('Accuracy')\n",
        "plt.legend()\n",
        "plt.show()\n",
        "\n",
        "\n",
        "# def show_plot(label, n_samples, latent_dim=100, latent_space=np.random.randn(1,100)):\n",
        "#   predictions = generator.predict([latent_space, np.array([label])])\n",
        "#   plt.imshow(predictions[0, :, :, 0] * 127.5 + 127.5, cmap='gray')\n",
        "#   plt.axis('off')\n",
        "#   plt.title(num_to_class[label])\n",
        "#   plt.show()\n",
        "\n",
        "# latent = np.random.randn(1,100)\n",
        "# for i in range(NUM_CLASSES):\n",
        "#   show_plot(i, 1, 100, latent)\n",
        "\n",
        "\n",
        "# show_plot(generator.predict(generate_latent_points(100, 1)), 1)\n",
        ""
      ],
      "metadata": {
        "colab": {
          "base_uri": "https://localhost:8080/",
          "height": 893
        },
        "id": "gxP4-ucvOFNf",
        "outputId": "6d24e7d8-8e31-46ff-9583-24d2ffafeda2"
      },
      "execution_count": 32,
      "outputs": [
        {
          "output_type": "display_data",
          "data": {
            "text/plain": [
              "<Figure size 640x480 with 1 Axes>"
            ],
            "image/png": "[encoded data removed]"
          },
          "metadata": {}
        },
        {
          "output_type": "display_data",
          "data": {
            "text/plain": [
              "<Figure size 640x480 with 1 Axes>"
            ],
            "image/png": "[encoded data removed]"
          },
          "metadata": {}
        }
      ]
    }
  ]
}